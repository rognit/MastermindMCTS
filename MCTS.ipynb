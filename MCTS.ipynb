{
 "cells": [
  {
   "metadata": {},
   "cell_type": "markdown",
   "source": [
    "![Image_jeu_Mastermind](https://upload.wikimedia.org/wikipedia/commons/2/2d/Mastermind.jpg)\n",
    "\n",
    "# Règle du jeu\n",
    "\n",
    "Le jeu se joue à deux : un codificateur et un décodeur.\n",
    "Le but est de deviner, par déductions successives, la couleur de chacun des 4 pions cachés derrière un écran.\n",
    "Les couleurs possibles sont au nombre de 6 (rouge, vert, bleu, jaune, orange, violet).\n",
    "\n",
    "Déroulement du jeu : le codificateur pose à l'endroit prévu à cet effet, les 4 pions de son choix. Il doit prendre soin de ne pas révéler la couleur et la répartition dans les trous des pions. Rien ne l'empêche d'en choisir plusieurs d'une même couleur.\n",
    "\n",
    "Son adversaire, le décodeur, est chargé de déchiffrer ce code secret. Il doit le faire en 10 coups maximum. Il place 4 ou 5 pions dans les trous de la première rangée immédiatement près de lui. Si l'un des pions correspond par sa position et sa couleur à un pion caché derrière l'écran, le codificateur l'indique en plaçant une fiche noire dans l'un des trous de marque, sur le côté droit correspondant du plateau. Si l'un des pions correspond uniquement par sa couleur, le Codificateur l'indique par une fiche blanche dans l'un des trous de marque. S'il n'y a aucune correspondance, il ne marque rien.\n",
    "\n",
    "Le décodeur continue de poser des pions par rangées successives. La tactique consiste à sélectionner en fonction des coups précédents, couleurs et positions, de manière à obtenir le maximum d'informations de la réponse du partenaire puisque le nombre de propositions est limité par le nombre de rangées de trous du jeu. Dans la plupart des cas, il s'efforce de se rapprocher le plus possible de la solution, compte tenu des réponses précédentes, mais il peut aussi former une combinaison dans le seul but de vérifier une partie des conclusions des coups précédents et de faire en conséquence la proposition la plus propice à la déduction d'une nouvelle information.\n",
    "\n",
    "Quand il est arrivé, au bout d'un certain nombre de coups, à placer les 4 pions qui correspondent exactement par la couleur et la position à ceux du code, la manche est terminée."
   ],
   "id": "4159674bac1e7a97"
  },
  {
   "metadata": {
    "ExecuteTime": {
     "end_time": "2024-06-16T15:17:28.031335Z",
     "start_time": "2024-06-16T15:17:27.921103Z"
    }
   },
   "cell_type": "code",
   "source": [
    "import random\n",
    "import numpy as np\n",
    "from itertools import product"
   ],
   "id": "bd44d538f2bb3cfd",
   "outputs": [],
   "execution_count": 1
  },
  {
   "metadata": {},
   "cell_type": "markdown",
   "source": "",
   "id": "91e5e8bbd80e1812"
  },
  {
   "metadata": {},
   "cell_type": "markdown",
   "source": "TODO",
   "id": "e01ddd78f83b2c8c"
  },
  {
   "cell_type": "code",
   "id": "initial_id",
   "metadata": {
    "collapsed": true,
    "ExecuteTime": {
     "end_time": "2024-06-16T15:36:39.385643Z",
     "start_time": "2024-06-16T15:36:39.371154Z"
    }
   },
   "source": [
    "def evaluate_guess(guess, secret_code):\n",
    "    exact = sum([1 for i in range(len(secret_code)) if guess[i] == secret_code[i]])\n",
    "    return exact, sum([min(guess.count(j), secret_code.count(j)) for j in set(guess)]) - exact"
   ],
   "outputs": [],
   "execution_count": 2
  },
  {
   "metadata": {},
   "cell_type": "markdown",
   "source": "TODO",
   "id": "3a00b0702d28c7cd"
  },
  {
   "metadata": {
    "ExecuteTime": {
     "end_time": "2024-06-16T15:36:45.303427Z",
     "start_time": "2024-06-16T15:36:45.288468Z"
    }
   },
   "cell_type": "code",
   "source": [
    "class GuessNode:\n",
    "    def __init__(self, parent, parameters, guess):\n",
    "        self.parameters = parameters\n",
    "        self.guess = guess\n",
    "\n",
    "        self.children = []\n",
    "        self.parent = parent\n",
    "\n",
    "        self.possible_codes = parent.possible_codes.copy()\n",
    "        self.history = parent.history.copy()\n",
    "        self.moves = parent.moves  # (node depth)\n",
    "\n",
    "        self.total_moves = 0  # sum of moves of all children (for ucb1)\n",
    "        self.visits = 0\n",
    "\n",
    "    def expand(self):  # (add feedback children)\n",
    "\n",
    "        possible_feedbacks = {}\n",
    "        feedback_cache = {}\n",
    "\n",
    "        for code in self.possible_codes:\n",
    "            for guess in self.possible_codes:\n",
    "                if guess not in feedback_cache:\n",
    "                    feedback_cache[guess] = {}\n",
    "                if code in feedback_cache[guess]:\n",
    "                    feedback = feedback_cache[guess][code]\n",
    "                else:\n",
    "                    feedback = evaluate_guess(code, guess)\n",
    "                    feedback_cache[code][guess] = feedback\n",
    "\n",
    "                if feedback not in possible_feedbacks:\n",
    "                    possible_feedbacks[feedback] = [code]\n",
    "                else:\n",
    "                    possible_feedbacks[feedback].append(code)\n",
    "\n",
    "        n = len(self.possible_codes)\n",
    "\n",
    "        for feedback in possible_feedbacks:\n",
    "            child = FeedbackNode(self.parameters, feedback=feedback, parent=self,\n",
    "                                 frequency=len(possible_feedbacks[feedback]) / n)\n",
    "            self.children.append(child)\n",
    "\n",
    "    def update(self, n_moves):\n",
    "        self.visits += 1\n",
    "        self.total_moves += n_moves\n",
    "\n",
    "    def score(self):  # (ucb1)\n",
    "        if self.visits == 0:\n",
    "            return float('inf')\n",
    "        return -self.total_moves / self.visits + np.sqrt(2 * np.log(self.parent.visits) / self.visits)\n",
    "\n",
    "    def simulate(self):\n",
    "        moves, possible_codes = self.moves, self.possible_codes.copy()\n",
    "        secret_code = random.choice(self.possible_codes)\n",
    "        while True:\n",
    "            guess = random.choice(possible_codes)\n",
    "            feedback = evaluate_guess(guess, secret_code)\n",
    "            if feedback == (self.parameters[\"code_length\"], 0):\n",
    "                return moves\n",
    "            new_possible_codes = []\n",
    "            for code in possible_codes:\n",
    "                if evaluate_guess(guess, code) == feedback:\n",
    "                    new_possible_codes.append(code)\n",
    "            possible_codes = new_possible_codes\n",
    "\n",
    "class FeedbackNode:\n",
    "    def __init__(self, parameters, feedback=None, parent=None, frequency=1.):\n",
    "        self.parameters = parameters\n",
    "        self.feedback = feedback\n",
    "        self.frequency = frequency\n",
    "\n",
    "        if parent:\n",
    "            self.moves = parent.moves\n",
    "            self.guess = parent.guess\n",
    "            self.history = parent.history.copy().append((parent.guess, feedback))\n",
    "            self.possible_codes = [code for code in parent.possible_codes if\n",
    "                                   evaluate_guess(self.guess, secret_code=code) == feedback]\n",
    "        else:\n",
    "            self.moves = 0\n",
    "            self.guess = None\n",
    "            self.history = []\n",
    "            self.possible_codes = list(\n",
    "                product(range(1, self.parameters[\"num_colors\"] + 1), repeat=self.parameters[\"code_length\"]))\n",
    "        self.parent = parent\n",
    "        self.children = []\n",
    "\n",
    "        self.expand()\n",
    "\n",
    "    def expand(self):  # (add_guess_children)\n",
    "        for code in self.possible_codes:\n",
    "            child = GuessNode(self, self.parameters, code)\n",
    "            self.children.append(child)\n",
    "\n",
    "    def score(self):\n",
    "        return self.frequency / self.parent.visits\n",
    "\n",
    "    def update(self, moves):\n",
    "        pass\n"
   ],
   "id": "11b84da14ddb84c2",
   "outputs": [],
   "execution_count": 3
  },
  {
   "metadata": {},
   "cell_type": "markdown",
   "source": "",
   "id": "1ceb61be48dd2a4a"
  },
  {
   "metadata": {
    "ExecuteTime": {
     "end_time": "2024-06-16T15:37:10.081303Z",
     "start_time": "2024-06-16T15:37:10.066625Z"
    }
   },
   "cell_type": "code",
   "source": [
    "def select(root):\n",
    "    guess_nodes = root.children\n",
    "    chosen_guess_node = max(guess_nodes, key=lambda guess_node: guess_node.score())\n",
    "\n",
    "    if chosen_guess_node.children:\n",
    "        feedback_nodes = chosen_guess_node.children\n",
    "        frequencies = [node.frequency for node in feedback_nodes]\n",
    "        total_frequency = np.sum(frequencies)\n",
    "        normalized_probabilities = [freq / total_frequency for freq in frequencies]\n",
    "\n",
    "        chosen_feedback_node = np.random.choice(feedback_nodes, p=normalized_probabilities)\n",
    "\n",
    "        return chosen_feedback_node\n",
    "\n",
    "    return chosen_guess_node\n",
    "\n",
    "    while node.children:\n",
    "        node = max(node.children, key=lambda child: child.ucb1())\n",
    "\n",
    "    return node"
   ],
   "id": "151123d85e73c24f",
   "outputs": [],
   "execution_count": 4
  },
  {
   "metadata": {
    "ExecuteTime": {
     "end_time": "2024-06-16T15:38:09.398219Z",
     "start_time": "2024-06-16T15:38:09.388667Z"
    }
   },
   "cell_type": "code",
   "source": [
    "def expand(guess_node):\n",
    "    guess_node.expand()\n",
    "\n",
    "\n",
    "def simulate(guess_node):\n",
    "    return guess_node.simulate()  # (moves)\n",
    "\n",
    "\n",
    "def backpropagate(node, total_moves):\n",
    "    while node is not None:\n",
    "        node.update(total_moves)\n",
    "        node = node.parent"
   ],
   "id": "38432b83fcb4a615",
   "outputs": [],
   "execution_count": 5
  },
  {
   "metadata": {
    "ExecuteTime": {
     "end_time": "2024-06-16T15:38:34.024519Z",
     "start_time": "2024-06-16T15:38:34.017476Z"
    }
   },
   "cell_type": "code",
   "source": [
    "def best_child(feedback_node):\n",
    "    return max(feedback_node.children, key=lambda child: child.visits) if feedback_node.children else None"
   ],
   "id": "e983d3bee36bd0dc",
   "outputs": [],
   "execution_count": 6
  },
  {
   "metadata": {
    "ExecuteTime": {
     "end_time": "2024-06-16T15:40:12.993764Z",
     "start_time": "2024-06-16T15:40:12.980311Z"
    }
   },
   "cell_type": "code",
   "source": [
    "def mcts_training(num_iterations):\n",
    "    parameters = {\n",
    "        \"code_length\": 2,\n",
    "        \"num_colors\": 3\n",
    "    }\n",
    "    root = FeedbackNode(parameters)\n",
    "    for _ in range(num_iterations):\n",
    "        guess_node = select(root)\n",
    "        expand(guess_node)\n",
    "        total_moves = simulate(guess_node)\n",
    "        backpropagate(guess_node, total_moves)"
   ],
   "id": "269328326f18dda",
   "outputs": [],
   "execution_count": 7
  },
  {
   "metadata": {
    "ExecuteTime": {
     "end_time": "2024-06-16T15:40:25.187054Z",
     "start_time": "2024-06-16T15:40:24.280639Z"
    }
   },
   "cell_type": "code",
   "source": "mcts_training(10)",
   "id": "47d86e451db21692",
   "outputs": [
    {
     "ename": "AttributeError",
     "evalue": "'NoneType' object has no attribute 'copy'",
     "output_type": "error",
     "traceback": [
      "\u001B[1;31m---------------------------------------------------------------------------\u001B[0m",
      "\u001B[1;31mAttributeError\u001B[0m                            Traceback (most recent call last)",
      "Cell \u001B[1;32mIn[8], line 1\u001B[0m\n\u001B[1;32m----> 1\u001B[0m mcts_training(\u001B[38;5;241m10\u001B[39m)\n",
      "Cell \u001B[1;32mIn[7], line 9\u001B[0m, in \u001B[0;36mmcts_training\u001B[1;34m(num_iterations)\u001B[0m\n\u001B[0;32m      7\u001B[0m \u001B[38;5;28;01mfor\u001B[39;00m _ \u001B[38;5;129;01min\u001B[39;00m \u001B[38;5;28mrange\u001B[39m(num_iterations):\n\u001B[0;32m      8\u001B[0m     guess_node \u001B[38;5;241m=\u001B[39m select(root)\n\u001B[1;32m----> 9\u001B[0m     expand(guess_node)\n\u001B[0;32m     10\u001B[0m     total_moves \u001B[38;5;241m=\u001B[39m simulate(guess_node)\n\u001B[0;32m     11\u001B[0m     backpropagate(guess_node, total_moves)\n",
      "Cell \u001B[1;32mIn[5], line 2\u001B[0m, in \u001B[0;36mexpand\u001B[1;34m(guess_node)\u001B[0m\n\u001B[0;32m      1\u001B[0m \u001B[38;5;28;01mdef\u001B[39;00m \u001B[38;5;21mexpand\u001B[39m(guess_node):\n\u001B[1;32m----> 2\u001B[0m     guess_node\u001B[38;5;241m.\u001B[39mexpand()\n",
      "Cell \u001B[1;32mIn[3], line 39\u001B[0m, in \u001B[0;36mGuessNode.expand\u001B[1;34m(self)\u001B[0m\n\u001B[0;32m     36\u001B[0m n \u001B[38;5;241m=\u001B[39m \u001B[38;5;28mlen\u001B[39m(\u001B[38;5;28mself\u001B[39m\u001B[38;5;241m.\u001B[39mpossible_codes)\n\u001B[0;32m     38\u001B[0m \u001B[38;5;28;01mfor\u001B[39;00m feedback \u001B[38;5;129;01min\u001B[39;00m possible_feedbacks:\n\u001B[1;32m---> 39\u001B[0m     child \u001B[38;5;241m=\u001B[39m FeedbackNode(\u001B[38;5;28mself\u001B[39m\u001B[38;5;241m.\u001B[39mparameters, feedback\u001B[38;5;241m=\u001B[39mfeedback, parent\u001B[38;5;241m=\u001B[39m\u001B[38;5;28mself\u001B[39m,\n\u001B[0;32m     40\u001B[0m                          frequency\u001B[38;5;241m=\u001B[39m\u001B[38;5;28mlen\u001B[39m(possible_feedbacks[feedback]) \u001B[38;5;241m/\u001B[39m n)\n\u001B[0;32m     41\u001B[0m     \u001B[38;5;28mself\u001B[39m\u001B[38;5;241m.\u001B[39mchildren\u001B[38;5;241m.\u001B[39mappend(child)\n",
      "Cell \u001B[1;32mIn[3], line 87\u001B[0m, in \u001B[0;36mFeedbackNode.__init__\u001B[1;34m(self, parameters, feedback, parent, frequency)\u001B[0m\n\u001B[0;32m     84\u001B[0m \u001B[38;5;28mself\u001B[39m\u001B[38;5;241m.\u001B[39mparent \u001B[38;5;241m=\u001B[39m parent\n\u001B[0;32m     85\u001B[0m \u001B[38;5;28mself\u001B[39m\u001B[38;5;241m.\u001B[39mchildren \u001B[38;5;241m=\u001B[39m []\n\u001B[1;32m---> 87\u001B[0m \u001B[38;5;28mself\u001B[39m\u001B[38;5;241m.\u001B[39mexpand()\n",
      "Cell \u001B[1;32mIn[3], line 91\u001B[0m, in \u001B[0;36mFeedbackNode.expand\u001B[1;34m(self)\u001B[0m\n\u001B[0;32m     89\u001B[0m \u001B[38;5;28;01mdef\u001B[39;00m \u001B[38;5;21mexpand\u001B[39m(\u001B[38;5;28mself\u001B[39m):  \u001B[38;5;66;03m# (add_guess_children)\u001B[39;00m\n\u001B[0;32m     90\u001B[0m     \u001B[38;5;28;01mfor\u001B[39;00m code \u001B[38;5;129;01min\u001B[39;00m \u001B[38;5;28mself\u001B[39m\u001B[38;5;241m.\u001B[39mpossible_codes:\n\u001B[1;32m---> 91\u001B[0m         child \u001B[38;5;241m=\u001B[39m GuessNode(\u001B[38;5;28mself\u001B[39m, \u001B[38;5;28mself\u001B[39m\u001B[38;5;241m.\u001B[39mparameters, code)\n\u001B[0;32m     92\u001B[0m         \u001B[38;5;28mself\u001B[39m\u001B[38;5;241m.\u001B[39mchildren\u001B[38;5;241m.\u001B[39mappend(child)\n",
      "Cell \u001B[1;32mIn[3], line 10\u001B[0m, in \u001B[0;36mGuessNode.__init__\u001B[1;34m(self, parent, parameters, guess)\u001B[0m\n\u001B[0;32m      7\u001B[0m \u001B[38;5;28mself\u001B[39m\u001B[38;5;241m.\u001B[39mparent \u001B[38;5;241m=\u001B[39m parent\n\u001B[0;32m      9\u001B[0m \u001B[38;5;28mself\u001B[39m\u001B[38;5;241m.\u001B[39mpossible_codes \u001B[38;5;241m=\u001B[39m parent\u001B[38;5;241m.\u001B[39mpossible_codes\u001B[38;5;241m.\u001B[39mcopy()\n\u001B[1;32m---> 10\u001B[0m \u001B[38;5;28mself\u001B[39m\u001B[38;5;241m.\u001B[39mhistory \u001B[38;5;241m=\u001B[39m parent\u001B[38;5;241m.\u001B[39mhistory\u001B[38;5;241m.\u001B[39mcopy()\n\u001B[0;32m     11\u001B[0m \u001B[38;5;28mself\u001B[39m\u001B[38;5;241m.\u001B[39mmoves \u001B[38;5;241m=\u001B[39m parent\u001B[38;5;241m.\u001B[39mmoves  \u001B[38;5;66;03m# (node depth)\u001B[39;00m\n\u001B[0;32m     13\u001B[0m \u001B[38;5;28mself\u001B[39m\u001B[38;5;241m.\u001B[39mtotal_moves \u001B[38;5;241m=\u001B[39m \u001B[38;5;241m0\u001B[39m  \u001B[38;5;66;03m# sum of moves of all children (for ucb1)\u001B[39;00m\n",
      "\u001B[1;31mAttributeError\u001B[0m: 'NoneType' object has no attribute 'copy'"
     ]
    }
   ],
   "execution_count": 8
  }
 ],
 "metadata": {
  "kernelspec": {
   "display_name": "Python 3",
   "language": "python",
   "name": "python3"
  },
  "language_info": {
   "codemirror_mode": {
    "name": "ipython",
    "version": 2
   },
   "file_extension": ".py",
   "mimetype": "text/x-python",
   "name": "python",
   "nbconvert_exporter": "python",
   "pygments_lexer": "ipython2",
   "version": "2.7.6"
  }
 },
 "nbformat": 4,
 "nbformat_minor": 5
}
